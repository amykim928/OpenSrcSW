{
 "cells": [
  {
   "cell_type": "code",
   "execution_count": 1,
   "metadata": {},
   "outputs": [
    {
     "name": "stdout",
     "output_type": "stream",
     "text": [
      "일교차가 가장 큰 날\n",
      "2020-05-06\n",
      "\n",
      "최저기온이 가장 낮은 날\n",
      "2020-12-30\n",
      "\n",
      "최고기온이 가장 높은 날\n",
      "2020-06-22\n",
      "\n"
     ]
    }
   ],
   "source": [
    "#실습1번\n",
    "import csv\n",
    "f = open('seoul.csv')\n",
    "data=csv.reader(f)\n",
    "next(data)\n",
    "range_temp = -999\n",
    "range_date = ''\n",
    "max_temp = -999\n",
    "max_date = ''\n",
    "min_temp = 999\n",
    "min_date = ''\n",
    "\n",
    "for row in data:\n",
    "    if row[3] == '':\n",
    "        row[3] = -999\n",
    "    if row[4] == '':\n",
    "        row[4] = -999\n",
    "    \n",
    "    row[3] = float(row[3])\n",
    "    row[4] = float(row[4])\n",
    "    \n",
    "    if range_temp < row[4]-row[3]:\n",
    "        range_date = row[0]\n",
    "        range_temp = row[4]-row[3]\n",
    "    \n",
    "    if min_temp > row[3]:\n",
    "        min_date = row[0]\n",
    "        min_temp = row[3]\n",
    "    \n",
    "    if max_temp < row[4]:\n",
    "        max_date = row[0]\n",
    "        max_temp = row[4]\n",
    "        \n",
    "f.close()\n",
    "print('일교차가 가장 큰 날\\n'+range_date+'\\n')\n",
    "print('최저기온이 가장 낮은 날\\n'+min_date+'\\n')\n",
    "print('최고기온이 가장 높은 날\\n'+max_date+'\\n')"
   ]
  },
  {
   "cell_type": "code",
   "execution_count": 2,
   "metadata": {},
   "outputs": [
    {
     "name": "stdout",
     "output_type": "stream",
     "text": [
      "이용객이 가장 많은 역 순위\n",
      "1. 강남 (3167883)\n",
      "2. 신림 (2799927)\n",
      "3. 잠실(송파구청) (2669433)\n",
      "이용객이 가장 적은 역 순위\n",
      "1. 계양 (2)\n",
      "2. 신내 (3)\n",
      "3. 지축 (4)\n"
     ]
    }
   ],
   "source": [
    "#실습 2번\n",
    "import csv\n",
    "f = open('subway.csv') #'지하철 노선별 역별 이용현황' 데이터가 있는 csv 파일입니다.\n",
    "data = csv.reader(f)\n",
    "next(data)\n",
    "max = [0]*3\n",
    "maxStation = ['']*3\n",
    "min = [10000000]*3\n",
    "minStation = ['']*3\n",
    "\n",
    "for row in data:\n",
    "    temp_max=0\n",
    "    temp_maxSta = ''\n",
    "    temp_min=0\n",
    "    temp_minSta = ''\n",
    "    row[4]=int(row[4].replace(',',''))\n",
    "    row[5]=int(row[5].replace(',',''))\n",
    "    userSum = row[4]+row[5]\n",
    "    for i in range(3):\n",
    "        if max[i]<userSum:\n",
    "            temp_max=max[i]\n",
    "            temp_maxSta = maxStation[i]\n",
    "            max[i]=userSum\n",
    "            maxStation[i]=row[3]\n",
    "            if(i+1<3):\n",
    "                max[i+1]=temp_max\n",
    "                maxStation[i+1]=temp_maxSta\n",
    "            break\n",
    "        if min[i]>userSum:\n",
    "            temp_min=min[i]\n",
    "            temp_minSta = minStation[i]\n",
    "            min[i]=userSum\n",
    "            minStation[i]=row[3]\n",
    "            \n",
    "            if(i+1<3):\n",
    "                min[i+1]=temp_min\n",
    "                minStation[i+1]=temp_minSta\n",
    "            break\n",
    "            \n",
    "print('이용객이 가장 많은 역 순위')\n",
    "for i in range(0,3):\n",
    "    printMax = ''\n",
    "    printMax += str(i+1)+'. '+maxStation[i]+' ('+str(max[i])+')'\n",
    "    print(printMax)\n",
    "\n",
    "print('이용객이 가장 적은 역 순위')\n",
    "for i in range(0,3):\n",
    "    printMin = ''\n",
    "    printMin += str(i+1)+'. '+minStation[i]+' ('+str(min[i])+')'\n",
    "    print(printMin)"
   ]
  },
  {
   "cell_type": "code",
   "execution_count": null,
   "metadata": {},
   "outputs": [],
   "source": []
  }
 ],
 "metadata": {
  "kernelspec": {
   "display_name": "Python 3",
   "language": "python",
   "name": "python3"
  },
  "language_info": {
   "codemirror_mode": {
    "name": "ipython",
    "version": 3
   },
   "file_extension": ".py",
   "mimetype": "text/x-python",
   "name": "python",
   "nbconvert_exporter": "python",
   "pygments_lexer": "ipython3",
   "version": "3.8.3"
  }
 },
 "nbformat": 4,
 "nbformat_minor": 4
}
