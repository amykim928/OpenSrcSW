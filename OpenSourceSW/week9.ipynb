{
 "cells": [
  {
   "cell_type": "code",
   "execution_count": 18,
   "id": "327098c9",
   "metadata": {},
   "outputs": [
    {
     "name": "stdout",
     "output_type": "stream",
     "text": [
      "x: 3.5\n",
      "57.25\n"
     ]
    }
   ],
   "source": [
    "# 첫번째 실습문제\n",
    "x = float(input(\"x: \"))\n",
    "y = 3*x**2 + 5*x + 3\n",
    "print(y)"
   ]
  },
  {
   "cell_type": "code",
   "execution_count": 19,
   "id": "86e30f81",
   "metadata": {},
   "outputs": [
    {
     "name": "stdout",
     "output_type": "stream",
     "text": [
      "a: 3.5\n",
      "원의 둘레:  21.98\n",
      "원의 넓이:  38.465\n"
     ]
    }
   ],
   "source": [
    "# 두번째 실습문제\n",
    "a = float(input(\"a: \"))\n",
    "pi = 3.14\n",
    "print(\"원의 둘레: \",2*pi*a)\n",
    "print(\"원의 넓이: \",pi*a**2)"
   ]
  }
 ],
 "metadata": {
  "kernelspec": {
   "display_name": "Python 3",
   "language": "python",
   "name": "python3"
  },
  "language_info": {
   "codemirror_mode": {
    "name": "ipython",
    "version": 3
   },
   "file_extension": ".py",
   "mimetype": "text/x-python",
   "name": "python",
   "nbconvert_exporter": "python",
   "pygments_lexer": "ipython3",
   "version": "3.8.2"
  }
 },
 "nbformat": 4,
 "nbformat_minor": 5
}
