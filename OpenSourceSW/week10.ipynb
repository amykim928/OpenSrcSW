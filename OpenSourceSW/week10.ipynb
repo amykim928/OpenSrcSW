{
 "cells": [
  {
   "cell_type": "code",
   "execution_count": 13,
   "id": "92c21aa9",
   "metadata": {},
   "outputs": [
    {
     "name": "stdout",
     "output_type": "stream",
     "text": [
      "Numbers? 10 456 87 78\n",
      "Max =  456\n"
     ]
    }
   ],
   "source": [
    "#실습 2번\n",
    "num = input(\"Numbers? \")\n",
    "numlist = num.split(\" \")\n",
    "numlist = list(map(int, numlist))\n",
    "maxNum = max(numlist)\n",
    "print(\"Max = \", maxNum)"
   ]
  },
  {
   "cell_type": "code",
   "execution_count": 52,
   "id": "d342104c",
   "metadata": {},
   "outputs": [
    {
     "name": "stdout",
     "output_type": "stream",
     "text": [
      "1) 암호화 2) 복호화 3) 종료: 1\n",
      "input string: abc def\n",
      "efg bcd \n",
      "1) 암호화 2) 복호화 3) 종료: 2\n",
      "input string: efg bcd\n",
      "abc def \n",
      "1) 암호화 2) 복호화 3) 종료: 3\n"
     ]
    }
   ],
   "source": [
    "#실습 3번\n",
    "def decrypt():\n",
    "    string = input(\"input string: \")\n",
    "    list = string.split(\" \")\n",
    "    list.reverse()\n",
    "    \n",
    "    for i in range(len(list)):\n",
    "        new = \"\"\n",
    "        pwd = list[i]\n",
    "        for j in range(len(list[i])):\n",
    "            c = pwd[j]\n",
    "            asc = ord(c)\n",
    "            asc += 1\n",
    "            c = chr(asc)\n",
    "            new += c\n",
    "        list[i] = new\n",
    "    str = \"\"\n",
    "    for i in range(len(list)):\n",
    "        str += list[i] + \" \"\n",
    "    print(str)\n",
    "\n",
    "def encrypt():\n",
    "    string = input(\"input string: \")\n",
    "    list = string.split(\" \")\n",
    "    list.reverse()\n",
    "    \n",
    "    for i in range(len(list)):\n",
    "        new = \"\"\n",
    "        pwd = list[i]\n",
    "        for j in range(len(list[i])):\n",
    "            c = pwd[j]\n",
    "            asc = ord(c)\n",
    "            asc -= 1\n",
    "            c = chr(asc)\n",
    "            new += c\n",
    "        list[i] = new\n",
    "    str = \"\"\n",
    "    for i in range(len(list)):\n",
    "        str += list[i] + \" \"\n",
    "    print(str)\n",
    "\n",
    "while 1:\n",
    "    menu = int(input(\"1) 암호화 2) 복호화 3) 종료: \"))\n",
    "    if menu==1:\n",
    "        decrypt()\n",
    "    elif menu==2:\n",
    "        encrypt()\n",
    "    elif menu==3:\n",
    "        break\n"
   ]
  },
  {
   "cell_type": "code",
   "execution_count": 65,
   "id": "e7bcb2db",
   "metadata": {},
   "outputs": [
    {
     "name": "stdout",
     "output_type": "stream",
     "text": [
      "input 10 people's telephone ab 12\n",
      "input 10 people's telephone cd 34\n",
      "input 10 people's telephone ef 56\n",
      "input 10 people's telephone gh 78\n",
      "input 10 people's telephone ij 910\n",
      "input 10 people's telephone kl 1112\n",
      "input 10 people's telephone mn 1314\n",
      "input 10 people's telephone op 1516\n",
      "input 10 people's telephone qr 1718\n",
      "input 10 people's telephone st 1920\n",
      "1) name 2) telephone 3) end: 1\n",
      "name: ef\n",
      "56\n",
      "1) name 2) telephone 3) end: 2\n",
      "telephone: 1314\n",
      "mn\n",
      "1) name 2) telephone 3) end: 3\n"
     ]
    }
   ],
   "source": [
    "#실습 4번\n",
    "def tele_Search(dict, val):\n",
    "    for key, value in dict.items():\n",
    "         if val == value:\n",
    "             return key\n",
    "    return 0\n",
    "\n",
    "pDict = {}\n",
    "for i in range(10):\n",
    "    key,value = input(\"input 10 people's telephone \").split()\n",
    "    pDict[key] = value\n",
    "while 1:\n",
    "    menu = int(input(\"1) name 2) telephone 3) end: \"))\n",
    "    if menu == 1:\n",
    "        name = input(\"name: \")\n",
    "        print(pDict[name])\n",
    "    elif menu == 2:\n",
    "        telephone = input(\"telephone: \")\n",
    "        print(tele_Search(pDict, telephone))  \n",
    "    elif menu == 3:\n",
    "        break\n",
    "    "
   ]
  }
 ],
 "metadata": {
  "kernelspec": {
   "display_name": "Python 3",
   "language": "python",
   "name": "python3"
  },
  "language_info": {
   "codemirror_mode": {
    "name": "ipython",
    "version": 3
   },
   "file_extension": ".py",
   "mimetype": "text/x-python",
   "name": "python",
   "nbconvert_exporter": "python",
   "pygments_lexer": "ipython3",
   "version": "3.8.2"
  }
 },
 "nbformat": 4,
 "nbformat_minor": 5
}
