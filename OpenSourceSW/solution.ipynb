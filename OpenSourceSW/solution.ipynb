{
 "cells": [
  {
   "cell_type": "code",
   "execution_count": 2,
   "id": "8c5a7a6f",
   "metadata": {},
   "outputs": [
    {
     "name": "stdout",
     "output_type": "stream",
     "text": [
      "(1,2)\n",
      "(3,4)\n",
      "(4,6)\n"
     ]
    }
   ],
   "source": [
    "#1번\n",
    "class Point:\n",
    "    x = 0\n",
    "    y = 0\n",
    "    def __init__(self,num1,num2):\n",
    "        self.x = num1\n",
    "        self.y = num2\n",
    "    def show(self):\n",
    "        str = \"({0},{1})\".format(self.x,self.y)\n",
    "        print(str)\n",
    "    def __add__(self, other):\n",
    "        a = self.x + other.x\n",
    "        b = self.y + other.y\n",
    "        return Point(a,b)\n",
    "a = Point(1,2)\n",
    "a.show()\n",
    "\n",
    "b = Point(3,4)\n",
    "b.show()\n",
    "\n",
    "a = a+b\n",
    "a.show()"
   ]
  },
  {
   "cell_type": "code",
   "execution_count": 1,
   "id": "802d8987",
   "metadata": {},
   "outputs": [
    {
     "name": "stdout",
     "output_type": "stream",
     "text": [
      "Max Week =  5/8 ~ 5/14\n"
     ]
    }
   ],
   "source": [
    "import csv\n",
    "f = open('seoul.csv')\n",
    "data = csv.reader(f)\n",
    "next(data)\n",
    "temp = [0]*5\n",
    "\n",
    "for row in data:\n",
    "    month = int(row[0].split('-')[1])\n",
    "    if row[-1]!= '' and row[-2] !='':\n",
    "        row[-1] = float(row[-1])\n",
    "        row[-2] = float(row[-2])\n",
    "        dateTemp = row[-1] - row[-2]\n",
    "        date = int(row[0].split('-')[2])\n",
    "        if date <= 7:\n",
    "            temp[0] += dateTemp\n",
    "        if date <= 14 and date > 7:\n",
    "            temp[1] += dateTemp\n",
    "        if date <= 21 and date > 14:\n",
    "            temp[2] += dateTemp\n",
    "        if date <= 28 and date > 21:\n",
    "            temp[3] += dateTemp\n",
    "        if date <= 31 and date>28:\n",
    "            temp[4] += dateTemp\n",
    "\n",
    "firstdate = temp.index(max(temp))*7+1\n",
    "lastdate = (temp.index(max(temp))+1)*7\n",
    "if(lastdate>31):\n",
    "    lastdate =31\n",
    "\n",
    "string= str(month) + '/' + str(firstdate) + ' ~ ' + str(month) + '/' + str(lastdate)\n",
    "print('Max Week = ', string)"
   ]
  },
  {
   "cell_type": "code",
   "execution_count": 4,
   "id": "4ee20838",
   "metadata": {},
   "outputs": [
    {
     "name": "stdout",
     "output_type": "stream",
     "text": [
      "11.0\n"
     ]
    }
   ],
   "source": [
    "import numpy as np\n",
    "import matplotlib.pyplot as plt\n",
    "\n",
    "docs = np.array([1,1,0,1,0,1,1,1,1,0,1,0,1,1,0,1,0,0]).reshape(3,6)\n",
    "query = np.array([1,1,0,0,1,0])\n",
    "\n",
    "a = np.sum(np.sqrt(docs))\n",
    "b = np.sum(np.sqrt(query))"
   ]
  },
  {
   "cell_type": "code",
   "execution_count": null,
   "id": "966af39b",
   "metadata": {},
   "outputs": [],
   "source": []
  }
 ],
 "metadata": {
  "kernelspec": {
   "display_name": "Python 3",
   "language": "python",
   "name": "python3"
  },
  "language_info": {
   "codemirror_mode": {
    "name": "ipython",
    "version": 3
   },
   "file_extension": ".py",
   "mimetype": "text/x-python",
   "name": "python",
   "nbconvert_exporter": "python",
   "pygments_lexer": "ipython3",
   "version": "3.8.2"
  }
 },
 "nbformat": 4,
 "nbformat_minor": 5
}
